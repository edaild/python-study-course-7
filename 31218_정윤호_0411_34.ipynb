{
 "cells": [
  {
   "cell_type": "markdown",
   "id": "d2254ced",
   "metadata": {},
   "source": [
    "31218_정윤호_0411_34"
   ]
  },
  {
   "cell_type": "markdown",
   "id": "6fae6d95",
   "metadata": {},
   "source": [
    "#  2. 리스트의 다양한 기능\n",
    "\n",
    "### 리스트 길이 확인\n",
    "> len(리스트 이름)"
   ]
  },
  {
   "cell_type": "code",
   "execution_count": 4,
   "id": "19da936b",
   "metadata": {},
   "outputs": [],
   "source": [
    "# 1원 지출부터 6월 지출까지 리스트로 만들기\n",
    "spending = [25, 36, 8, 53, 24, 56]"
   ]
  },
  {
   "cell_type": "code",
   "execution_count": 5,
   "id": "204ab151",
   "metadata": {},
   "outputs": [
    {
     "data": {
      "text/plain": [
       "6"
      ]
     },
     "execution_count": 5,
     "metadata": {},
     "output_type": "execute_result"
    }
   ],
   "source": [
    "len(spending)"
   ]
  },
  {
   "cell_type": "markdown",
   "id": "ae413202",
   "metadata": {},
   "source": [
    "### 리스트에 데이터 추가하기\n",
    "\n",
    "> 리스트이름.append(데이터)<br>\n",
    "  마지막에 추가됨\n",
    "\n",
    "```\n",
    "food = ['피자','치킨','떡복이','스테이크','파스타']\n",
    "```"
   ]
  },
  {
   "cell_type": "code",
   "execution_count": 11,
   "id": "c1e842ce",
   "metadata": {},
   "outputs": [
    {
     "name": "stdout",
     "output_type": "stream",
     "text": [
      "['피자', '치킨', '떡복이', '스테이크', '파스타']\n"
     ]
    }
   ],
   "source": [
    "food = ['피자','치킨','떡복이','스테이크','파스타']\n",
    "print(food)\n"
   ]
  },
  {
   "cell_type": "code",
   "execution_count": 12,
   "id": "33c08e23",
   "metadata": {},
   "outputs": [
    {
     "name": "stdout",
     "output_type": "stream",
     "text": [
      "['피자', '치킨', '떡복이', '스테이크', '파스타', '햄버거']\n"
     ]
    }
   ],
   "source": [
    "# 햄버거 추가\n",
    "food.append('햄버거')\n",
    "print(food)"
   ]
  },
  {
   "cell_type": "code",
   "execution_count": 13,
   "id": "e2015417",
   "metadata": {},
   "outputs": [
    {
     "name": "stdout",
     "output_type": "stream",
     "text": [
      "['피자', '치킨', '떡복이', '스테이크', '파스타', '햄버거', '카레']\n"
     ]
    }
   ],
   "source": [
    "# 카레 추가해 봅시다.\n",
    "food.append('카레')\n",
    "print(food)"
   ]
  },
  {
   "cell_type": "markdown",
   "id": "3fce8b90",
   "metadata": {},
   "source": [
    "### 빈 리스트 만들고 데이터 추가하기"
   ]
  },
  {
   "cell_type": "code",
   "execution_count": 17,
   "id": "4339d9a9",
   "metadata": {},
   "outputs": [
    {
     "name": "stdout",
     "output_type": "stream",
     "text": [
      "['파이썬 공부']\n"
     ]
    }
   ],
   "source": [
    "# 해야 할 일을 저장하는 List to_do\n",
    "to_do = []\n",
    "# 파이썬 공부\n",
    "to_do.append('파이썬 공부')\n",
    "print(to_do)"
   ]
  },
  {
   "cell_type": "code",
   "execution_count": 18,
   "id": "df46ef4f",
   "metadata": {},
   "outputs": [
    {
     "name": "stdout",
     "output_type": "stream",
     "text": [
      "해야할 일을 입력하세요? 책 읽기\n",
      "['파이썬 공부', '책 읽기']\n"
     ]
    }
   ],
   "source": [
    "# 해야할 일을 입력받아 to_do 저장하기\n",
    "\n",
    "task = input('해야할 일을 입력하세요? ')\n",
    "\n",
    "to_do.append(task)\n",
    "print(to_do)"
   ]
  },
  {
   "cell_type": "code",
   "execution_count": 19,
   "id": "4ef1e833",
   "metadata": {},
   "outputs": [
    {
     "name": "stdout",
     "output_type": "stream",
     "text": [
      "해야할 일을 입력하세요? 빅데이터 수업\n",
      "['파이썬 공부', '책 읽기', '빅데이터 수업']\n"
     ]
    }
   ],
   "source": [
    "# 한줄로바꾸보기\n",
    "to_do.append(input('해야할 일을 입력하세요? '))\n",
    "\n",
    "print(to_do)"
   ]
  },
  {
   "cell_type": "markdown",
   "id": "efaaeea8",
   "metadata": {},
   "source": [
    "### 리스트 슬라이싱\n",
    "\n",
    ">리스트[시작숫자 : 종류숫자]\n",
    "\n",
    "종류숫자-1 까지 잘라내는 것\n",
    "\n",
    "```\n",
    "abc[2:5]\n",
    "abc[4:9]\n",
    "```\n",
    "```\n",
    "food = ['피자','치킨','떡복이','스테이크','파스타']\n",
    "```"
   ]
  },
  {
   "cell_type": "code",
   "execution_count": 20,
   "id": "2a0bbb94",
   "metadata": {},
   "outputs": [],
   "source": [
    "food = ['피자','치킨','떡복이','스테이크','파스타']"
   ]
  },
  {
   "cell_type": "code",
   "execution_count": 21,
   "id": "67af709d",
   "metadata": {},
   "outputs": [
    {
     "data": {
      "text/plain": [
       "['떡복이', '스테이크']"
      ]
     },
     "execution_count": 21,
     "metadata": {},
     "output_type": "execute_result"
    }
   ],
   "source": [
    "# 떡복이, 스테이크만 골라내기\n",
    "\n",
    "food[2:4]"
   ]
  },
  {
   "cell_type": "code",
   "execution_count": 25,
   "id": "fe09c5b3",
   "metadata": {},
   "outputs": [
    {
     "data": {
      "text/plain": [
       "['피자', '치킨', '떡복이', '스테이크']"
      ]
     },
     "execution_count": 25,
     "metadata": {},
     "output_type": "execute_result"
    }
   ],
   "source": [
    "# 처음부터 스테이큭까지 골라내기\n",
    "# 처음에 0이오면 생략가능\n",
    "food[:4]"
   ]
  },
  {
   "cell_type": "code",
   "execution_count": 30,
   "id": "12692d55",
   "metadata": {},
   "outputs": [
    {
     "data": {
      "text/plain": [
       "['스테이크', '파스타']"
      ]
     },
     "execution_count": 30,
     "metadata": {},
     "output_type": "execute_result"
    }
   ],
   "source": [
    "# 스테이크 파스타\n",
    "\n",
    "food[-2:]\n"
   ]
  },
  {
   "cell_type": "markdown",
   "id": "d5568b7e",
   "metadata": {},
   "source": [
    "### 문자열 슬라이싱"
   ]
  },
  {
   "cell_type": "code",
   "execution_count": 31,
   "id": "600c61da",
   "metadata": {},
   "outputs": [],
   "source": [
    "date = '2023-04-11'"
   ]
  },
  {
   "cell_type": "code",
   "execution_count": 34,
   "id": "15365f3f",
   "metadata": {},
   "outputs": [
    {
     "data": {
      "text/plain": [
       "'2023'"
      ]
     },
     "execution_count": 34,
     "metadata": {},
     "output_type": "execute_result"
    }
   ],
   "source": [
    "# year\n",
    "date[:4]"
   ]
  },
  {
   "cell_type": "code",
   "execution_count": 35,
   "id": "b038cca4",
   "metadata": {},
   "outputs": [
    {
     "data": {
      "text/plain": [
       "'11'"
      ]
     },
     "execution_count": 35,
     "metadata": {},
     "output_type": "execute_result"
    }
   ],
   "source": [
    "# day\n",
    "date[-2:]"
   ]
  },
  {
   "cell_type": "code",
   "execution_count": 37,
   "id": "3b4f3c4e",
   "metadata": {},
   "outputs": [
    {
     "data": {
      "text/plain": [
       "'04'"
      ]
     },
     "execution_count": 37,
     "metadata": {},
     "output_type": "execute_result"
    }
   ],
   "source": [
    "# month\n",
    "date[5:7]"
   ]
  },
  {
   "cell_type": "markdown",
   "id": "de16f4e0",
   "metadata": {},
   "source": [
    "### split()으로 문자열 스라이싱\n",
    "> ()기준으로 잘라서 구분 분리 시켜줍니다."
   ]
  },
  {
   "cell_type": "code",
   "execution_count": 38,
   "id": "b64946fe",
   "metadata": {},
   "outputs": [],
   "source": [
    "date = '2023-04-11 화요일'"
   ]
  },
  {
   "cell_type": "code",
   "execution_count": 39,
   "id": "934d25c0",
   "metadata": {},
   "outputs": [
    {
     "data": {
      "text/plain": [
       "['2023-04-11', '화요일']"
      ]
     },
     "execution_count": 39,
     "metadata": {},
     "output_type": "execute_result"
    }
   ],
   "source": [
    "# 공백을 기준으로 split\n",
    "date.split()"
   ]
  },
  {
   "cell_type": "code",
   "execution_count": 41,
   "id": "3df57a81",
   "metadata": {},
   "outputs": [
    {
     "data": {
      "text/plain": [
       "['2', '23-', '4-11 화요일']"
      ]
     },
     "execution_count": 41,
     "metadata": {},
     "output_type": "execute_result"
    }
   ],
   "source": [
    "# 0을 기준으로 split\n",
    "\n",
    "date.split('0')"
   ]
  },
  {
   "cell_type": "code",
   "execution_count": 42,
   "id": "70e54ce4",
   "metadata": {},
   "outputs": [
    {
     "data": {
      "text/plain": [
       "['2023', '04', '11 화요일']"
      ]
     },
     "execution_count": 42,
     "metadata": {},
     "output_type": "execute_result"
    }
   ],
   "source": [
    "# -을 기준으로 split\n",
    "date.split('-')"
   ]
  },
  {
   "cell_type": "code",
   "execution_count": 44,
   "id": "66d2af02",
   "metadata": {},
   "outputs": [],
   "source": [
    "year = date.split('-')[0]"
   ]
  },
  {
   "cell_type": "code",
   "execution_count": 45,
   "id": "6ef8f824",
   "metadata": {},
   "outputs": [
    {
     "data": {
      "text/plain": [
       "'2023'"
      ]
     },
     "execution_count": 45,
     "metadata": {},
     "output_type": "execute_result"
    }
   ],
   "source": [
    "year"
   ]
  },
  {
   "cell_type": "markdown",
   "id": "67619424",
   "metadata": {},
   "source": [
    "실습\n",
    "```\n",
    "date = '2023-04-11'\n",
    "\n",
    "위 date에서 월(month)만 골라내 숫자형태로 변수mon에 저장하시오.\n",
    "```"
   ]
  },
  {
   "cell_type": "code",
   "execution_count": 52,
   "id": "a7e6d27c",
   "metadata": {},
   "outputs": [
    {
     "name": "stdout",
     "output_type": "stream",
     "text": [
      "4\n"
     ]
    }
   ],
   "source": [
    "date = '2023-04-11'\n",
    "mon = int(date.split('-')[1])\n",
    "print(mon)"
   ]
  },
  {
   "cell_type": "markdown",
   "id": "82c140e2",
   "metadata": {},
   "source": [
    "위 date에서 일(day)aks 숫자 형태로 골라내 변수에 저장하시오."
   ]
  },
  {
   "cell_type": "code",
   "execution_count": 55,
   "id": "ed5323f4",
   "metadata": {},
   "outputs": [
    {
     "name": "stdout",
     "output_type": "stream",
     "text": [
      "11\n"
     ]
    }
   ],
   "source": [
    "date = '2023-04-11'\n",
    "# 일만 골라내기\n",
    "mon = int(date.split('-')[-1])\n",
    "print(mon)"
   ]
  },
  {
   "cell_type": "code",
   "execution_count": null,
   "id": "799626d6",
   "metadata": {},
   "outputs": [],
   "source": []
  }
 ],
 "metadata": {
  "kernelspec": {
   "display_name": "Python 3 (ipykernel)",
   "language": "python",
   "name": "python3"
  },
  "language_info": {
   "codemirror_mode": {
    "name": "ipython",
    "version": 3
   },
   "file_extension": ".py",
   "mimetype": "text/x-python",
   "name": "python",
   "nbconvert_exporter": "python",
   "pygments_lexer": "ipython3",
   "version": "3.9.7"
  }
 },
 "nbformat": 4,
 "nbformat_minor": 5
}
